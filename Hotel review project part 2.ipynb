{
 "cells": [
  {
   "cell_type": "markdown",
   "id": "d32260b0",
   "metadata": {},
   "source": [
    "## Importing Necessary Libraries"
   ]
  },
  {
   "cell_type": "code",
   "execution_count": 176,
   "id": "e2d794e5",
   "metadata": {},
   "outputs": [],
   "source": [
    "import pandas as pd\n",
    "import numpy as np\n",
    "import matplotlib.pyplot as plt\n",
    "import seaborn as sns\n",
    "import plotly.offline as pyo\n",
    "import plotly.graph_objs as go\n",
    "from plotly.offline import init_notebook_mode, iplot\n",
    "import plotly.express as px\n",
    "import warnings\n",
    "warnings.filterwarnings(\"ignore\")\n",
    "from sklearn.metrics import log_loss, roc_auc_score, accuracy_score\n",
    "import plotly.express as px\n",
    "from wordcloud import WordCloud\n",
    "from plotly.offline import download_plotlyjs, init_notebook_mode, plot, iplot\n",
    "import re\n",
    "\n",
    "#import sklearn\n",
    "from sklearn.feature_extraction.text import TfidfVectorizer\n",
    "from pprint import pprint\n",
    "from sklearn.feature_extraction.text import CountVectorizer\n",
    "from sklearn import preprocessing\n",
    "from nltk.tokenize import  word_tokenize\n",
    "import nltk\n",
    "from sklearn.naive_bayes import MultinomialNB\n",
    "from sklearn import metrics\n",
    "from nltk.corpus import stopwords\n",
    "from nltk.stem import PorterStemmer\n",
    "from nltk.tokenize import word_tokenize\n",
    "import string \n"
   ]
  },
  {
   "cell_type": "markdown",
   "id": "001f4225",
   "metadata": {},
   "source": [
    "## Data Loading and cleaning"
   ]
  },
  {
   "cell_type": "code",
   "execution_count": 177,
   "id": "50e0c853",
   "metadata": {},
   "outputs": [],
   "source": [
    "import pandas as pd\n",
    "from IPython.display import display, HTML\n",
    "\n",
    "Hotel_Reviews = pd.read_csv('Hotel_Reviews.csv')\n"
   ]
  },
  {
   "cell_type": "code",
   "execution_count": 178,
   "id": "2865e70b",
   "metadata": {},
   "outputs": [],
   "source": [
    "Hotel_Reviews.dropna(inplace=True)"
   ]
  },
  {
   "cell_type": "code",
   "execution_count": 179,
   "id": "a781bfe1",
   "metadata": {},
   "outputs": [],
   "source": [
    "Hotel_Reviews['Review_Date'] = pd.to_datetime(Hotel_Reviews.Review_Date)\n",
    "Hotel_Reviews['Review_year'] =  pd.DatetimeIndex(Hotel_Reviews['Review_Date']).year "
   ]
  },
  {
   "cell_type": "code",
   "execution_count": 180,
   "id": "18f104e7",
   "metadata": {},
   "outputs": [],
   "source": [
    "Hotel_Reviews.loc[Hotel_Reviews['Negative_Review']=='No Negative','Negative_Review'] = ''\n",
    "Hotel_Reviews.loc[Hotel_Reviews['Positive_Review']=='No Positive','Positive_Review'] = ''"
   ]
  },
  {
   "cell_type": "code",
   "execution_count": 181,
   "id": "4fe9f648",
   "metadata": {},
   "outputs": [],
   "source": [
    "Hotel_Reviews[\"Total_Review\"] = Hotel_Reviews[\"Negative_Review\"] + Hotel_Reviews[\"Positive_Review\"]"
   ]
  },
  {
   "cell_type": "code",
   "execution_count": 182,
   "id": "74571e6b",
   "metadata": {},
   "outputs": [],
   "source": [
    "Hotel_Reviews['Total_Review']=Hotel_Reviews.Total_Review.str.replace('[^a-zA-Z]', ' ')"
   ]
  },
  {
   "cell_type": "code",
   "execution_count": 183,
   "id": "f3cb23e2",
   "metadata": {},
   "outputs": [],
   "source": [
    "# Remove punctuation \n",
    "Hotel_Reviews['Total_Review'] = Hotel_Reviews['Total_Review'].str.replace('[^\\w\\s]','')"
   ]
  },
  {
   "cell_type": "code",
   "execution_count": 184,
   "id": "250ccad6",
   "metadata": {},
   "outputs": [],
   "source": [
    "Hotel_Reviews['Total_Review']=Hotel_Reviews['Total_Review'].str.lower()"
   ]
  },
  {
   "cell_type": "code",
   "execution_count": 185,
   "id": "fc4211e3",
   "metadata": {},
   "outputs": [],
   "source": [
    "Hotel_Reviews['Total_Review'] = Hotel_Reviews['Total_Review'].astype(str)"
   ]
  },
  {
   "cell_type": "code",
   "execution_count": 186,
   "id": "2341d486",
   "metadata": {},
   "outputs": [
    {
     "data": {
      "text/html": [
       "<div>\n",
       "<style scoped>\n",
       "    .dataframe tbody tr th:only-of-type {\n",
       "        vertical-align: middle;\n",
       "    }\n",
       "\n",
       "    .dataframe tbody tr th {\n",
       "        vertical-align: top;\n",
       "    }\n",
       "\n",
       "    .dataframe thead th {\n",
       "        text-align: right;\n",
       "    }\n",
       "</style>\n",
       "<table border=\"1\" class=\"dataframe\">\n",
       "  <thead>\n",
       "    <tr style=\"text-align: right;\">\n",
       "      <th></th>\n",
       "      <th>Additional_Number_of_Scoring</th>\n",
       "      <th>Average_Score</th>\n",
       "      <th>Review_Total_Negative_Word_Counts</th>\n",
       "      <th>Total_Number_of_Reviews</th>\n",
       "      <th>Review_Total_Positive_Word_Counts</th>\n",
       "      <th>Total_Number_of_Reviews_Reviewer_Has_Given</th>\n",
       "      <th>Reviewer_Score</th>\n",
       "      <th>lat</th>\n",
       "      <th>lng</th>\n",
       "      <th>Review_year</th>\n",
       "    </tr>\n",
       "  </thead>\n",
       "  <tbody>\n",
       "    <tr>\n",
       "      <th>count</th>\n",
       "      <td>512470.000000</td>\n",
       "      <td>512470.000000</td>\n",
       "      <td>512470.000000</td>\n",
       "      <td>512470.000000</td>\n",
       "      <td>512470.000000</td>\n",
       "      <td>512470.000000</td>\n",
       "      <td>512470.000000</td>\n",
       "      <td>512470.000000</td>\n",
       "      <td>512470.000000</td>\n",
       "      <td>512470.000000</td>\n",
       "    </tr>\n",
       "    <tr>\n",
       "      <th>mean</th>\n",
       "      <td>500.118391</td>\n",
       "      <td>8.397934</td>\n",
       "      <td>18.541864</td>\n",
       "      <td>2747.504902</td>\n",
       "      <td>17.765052</td>\n",
       "      <td>7.152272</td>\n",
       "      <td>8.395594</td>\n",
       "      <td>49.442439</td>\n",
       "      <td>2.823803</td>\n",
       "      <td>2016.121031</td>\n",
       "    </tr>\n",
       "    <tr>\n",
       "      <th>std</th>\n",
       "      <td>501.419262</td>\n",
       "      <td>0.549133</td>\n",
       "      <td>29.693695</td>\n",
       "      <td>2322.698454</td>\n",
       "      <td>21.789025</td>\n",
       "      <td>11.028943</td>\n",
       "      <td>1.638170</td>\n",
       "      <td>3.466325</td>\n",
       "      <td>4.579425</td>\n",
       "      <td>0.687526</td>\n",
       "    </tr>\n",
       "    <tr>\n",
       "      <th>min</th>\n",
       "      <td>1.000000</td>\n",
       "      <td>5.200000</td>\n",
       "      <td>0.000000</td>\n",
       "      <td>43.000000</td>\n",
       "      <td>0.000000</td>\n",
       "      <td>1.000000</td>\n",
       "      <td>2.500000</td>\n",
       "      <td>41.328376</td>\n",
       "      <td>-0.369758</td>\n",
       "      <td>2015.000000</td>\n",
       "    </tr>\n",
       "    <tr>\n",
       "      <th>25%</th>\n",
       "      <td>169.000000</td>\n",
       "      <td>8.100000</td>\n",
       "      <td>2.000000</td>\n",
       "      <td>1161.000000</td>\n",
       "      <td>5.000000</td>\n",
       "      <td>1.000000</td>\n",
       "      <td>7.500000</td>\n",
       "      <td>48.214662</td>\n",
       "      <td>-0.143372</td>\n",
       "      <td>2016.000000</td>\n",
       "    </tr>\n",
       "    <tr>\n",
       "      <th>50%</th>\n",
       "      <td>343.000000</td>\n",
       "      <td>8.400000</td>\n",
       "      <td>9.000000</td>\n",
       "      <td>2134.000000</td>\n",
       "      <td>11.000000</td>\n",
       "      <td>3.000000</td>\n",
       "      <td>8.800000</td>\n",
       "      <td>51.499981</td>\n",
       "      <td>0.010607</td>\n",
       "      <td>2016.000000</td>\n",
       "    </tr>\n",
       "    <tr>\n",
       "      <th>75%</th>\n",
       "      <td>666.000000</td>\n",
       "      <td>8.800000</td>\n",
       "      <td>23.000000</td>\n",
       "      <td>3633.000000</td>\n",
       "      <td>22.000000</td>\n",
       "      <td>8.000000</td>\n",
       "      <td>9.600000</td>\n",
       "      <td>51.516288</td>\n",
       "      <td>4.834443</td>\n",
       "      <td>2017.000000</td>\n",
       "    </tr>\n",
       "    <tr>\n",
       "      <th>max</th>\n",
       "      <td>2682.000000</td>\n",
       "      <td>9.800000</td>\n",
       "      <td>408.000000</td>\n",
       "      <td>16670.000000</td>\n",
       "      <td>395.000000</td>\n",
       "      <td>355.000000</td>\n",
       "      <td>10.000000</td>\n",
       "      <td>52.400181</td>\n",
       "      <td>16.429233</td>\n",
       "      <td>2017.000000</td>\n",
       "    </tr>\n",
       "  </tbody>\n",
       "</table>\n",
       "</div>"
      ],
      "text/plain": [
       "       Additional_Number_of_Scoring  Average_Score  \\\n",
       "count                 512470.000000  512470.000000   \n",
       "mean                     500.118391       8.397934   \n",
       "std                      501.419262       0.549133   \n",
       "min                        1.000000       5.200000   \n",
       "25%                      169.000000       8.100000   \n",
       "50%                      343.000000       8.400000   \n",
       "75%                      666.000000       8.800000   \n",
       "max                     2682.000000       9.800000   \n",
       "\n",
       "       Review_Total_Negative_Word_Counts  Total_Number_of_Reviews  \\\n",
       "count                      512470.000000            512470.000000   \n",
       "mean                           18.541864              2747.504902   \n",
       "std                            29.693695              2322.698454   \n",
       "min                             0.000000                43.000000   \n",
       "25%                             2.000000              1161.000000   \n",
       "50%                             9.000000              2134.000000   \n",
       "75%                            23.000000              3633.000000   \n",
       "max                           408.000000             16670.000000   \n",
       "\n",
       "       Review_Total_Positive_Word_Counts  \\\n",
       "count                      512470.000000   \n",
       "mean                           17.765052   \n",
       "std                            21.789025   \n",
       "min                             0.000000   \n",
       "25%                             5.000000   \n",
       "50%                            11.000000   \n",
       "75%                            22.000000   \n",
       "max                           395.000000   \n",
       "\n",
       "       Total_Number_of_Reviews_Reviewer_Has_Given  Reviewer_Score  \\\n",
       "count                               512470.000000   512470.000000   \n",
       "mean                                     7.152272        8.395594   \n",
       "std                                     11.028943        1.638170   \n",
       "min                                      1.000000        2.500000   \n",
       "25%                                      1.000000        7.500000   \n",
       "50%                                      3.000000        8.800000   \n",
       "75%                                      8.000000        9.600000   \n",
       "max                                    355.000000       10.000000   \n",
       "\n",
       "                 lat            lng    Review_year  \n",
       "count  512470.000000  512470.000000  512470.000000  \n",
       "mean       49.442439       2.823803    2016.121031  \n",
       "std         3.466325       4.579425       0.687526  \n",
       "min        41.328376      -0.369758    2015.000000  \n",
       "25%        48.214662      -0.143372    2016.000000  \n",
       "50%        51.499981       0.010607    2016.000000  \n",
       "75%        51.516288       4.834443    2017.000000  \n",
       "max        52.400181      16.429233    2017.000000  "
      ]
     },
     "execution_count": 186,
     "metadata": {},
     "output_type": "execute_result"
    }
   ],
   "source": [
    "Hotel_Reviews.describe()"
   ]
  },
  {
   "cell_type": "code",
   "execution_count": 187,
   "id": "2fa61605",
   "metadata": {},
   "outputs": [
    {
     "data": {
      "text/plain": [
       "Hotel_Address                                   1476\n",
       "Additional_Number_of_Scoring                     479\n",
       "Review_Date                                      731\n",
       "Average_Score                                     34\n",
       "Hotel_Name                                      1475\n",
       "Reviewer_Nationality                             227\n",
       "Negative_Review                               327927\n",
       "Review_Total_Negative_Word_Counts                402\n",
       "Total_Number_of_Reviews                         1132\n",
       "Positive_Review                               409941\n",
       "Review_Total_Positive_Word_Counts                365\n",
       "Total_Number_of_Reviews_Reviewer_Has_Given       197\n",
       "Reviewer_Score                                    37\n",
       "Tags                                           54934\n",
       "days_since_review                                731\n",
       "lat                                             1472\n",
       "lng                                             1472\n",
       "Review_year                                        3\n",
       "Total_Review                                  493579\n",
       "dtype: int64"
      ]
     },
     "execution_count": 187,
     "metadata": {},
     "output_type": "execute_result"
    }
   ],
   "source": [
    "Hotel_Reviews.nunique()"
   ]
  },
  {
   "cell_type": "code",
   "execution_count": 188,
   "id": "cbed7be9",
   "metadata": {},
   "outputs": [],
   "source": [
    "# Split the address and extract the country\n",
    "Hotel_Reviews['hotel_country'] = Hotel_Reviews.Hotel_Address.apply(lambda x: x.split(' ')[-1])"
   ]
  },
  {
   "cell_type": "code",
   "execution_count": 189,
   "id": "fe9d9dc2",
   "metadata": {},
   "outputs": [
    {
     "data": {
      "text/html": [
       "<div>\n",
       "<style scoped>\n",
       "    .dataframe tbody tr th:only-of-type {\n",
       "        vertical-align: middle;\n",
       "    }\n",
       "\n",
       "    .dataframe tbody tr th {\n",
       "        vertical-align: top;\n",
       "    }\n",
       "\n",
       "    .dataframe thead th {\n",
       "        text-align: right;\n",
       "    }\n",
       "</style>\n",
       "<table border=\"1\" class=\"dataframe\">\n",
       "  <thead>\n",
       "    <tr style=\"text-align: right;\">\n",
       "      <th></th>\n",
       "      <th>Hotel_Address</th>\n",
       "      <th>Additional_Number_of_Scoring</th>\n",
       "      <th>Review_Date</th>\n",
       "      <th>Average_Score</th>\n",
       "      <th>Hotel_Name</th>\n",
       "      <th>Reviewer_Nationality</th>\n",
       "      <th>Negative_Review</th>\n",
       "      <th>Review_Total_Negative_Word_Counts</th>\n",
       "      <th>Total_Number_of_Reviews</th>\n",
       "      <th>Positive_Review</th>\n",
       "      <th>Review_Total_Positive_Word_Counts</th>\n",
       "      <th>Total_Number_of_Reviews_Reviewer_Has_Given</th>\n",
       "      <th>Reviewer_Score</th>\n",
       "      <th>Tags</th>\n",
       "      <th>days_since_review</th>\n",
       "      <th>lat</th>\n",
       "      <th>lng</th>\n",
       "      <th>Review_year</th>\n",
       "      <th>Total_Review</th>\n",
       "      <th>hotel_country</th>\n",
       "    </tr>\n",
       "  </thead>\n",
       "  <tbody>\n",
       "    <tr>\n",
       "      <th>0</th>\n",
       "      <td>s Gravesandestraat 55 Oost 1092 AA Amsterdam ...</td>\n",
       "      <td>194</td>\n",
       "      <td>2017-08-03</td>\n",
       "      <td>7.7</td>\n",
       "      <td>Hotel Arena</td>\n",
       "      <td>Russia</td>\n",
       "      <td>I am so angry that i made this post available...</td>\n",
       "      <td>397</td>\n",
       "      <td>1403</td>\n",
       "      <td>Only the park outside of the hotel was beauti...</td>\n",
       "      <td>11</td>\n",
       "      <td>7</td>\n",
       "      <td>2.9</td>\n",
       "      <td>[' Leisure trip ', ' Couple ', ' Duplex Double...</td>\n",
       "      <td>0 days</td>\n",
       "      <td>52.360576</td>\n",
       "      <td>4.915968</td>\n",
       "      <td>2017</td>\n",
       "      <td>i am so angry that i made this post available...</td>\n",
       "      <td>Netherlands</td>\n",
       "    </tr>\n",
       "    <tr>\n",
       "      <th>1</th>\n",
       "      <td>s Gravesandestraat 55 Oost 1092 AA Amsterdam ...</td>\n",
       "      <td>194</td>\n",
       "      <td>2017-08-03</td>\n",
       "      <td>7.7</td>\n",
       "      <td>Hotel Arena</td>\n",
       "      <td>Ireland</td>\n",
       "      <td></td>\n",
       "      <td>0</td>\n",
       "      <td>1403</td>\n",
       "      <td>No real complaints the hotel was great great ...</td>\n",
       "      <td>105</td>\n",
       "      <td>7</td>\n",
       "      <td>7.5</td>\n",
       "      <td>[' Leisure trip ', ' Couple ', ' Duplex Double...</td>\n",
       "      <td>0 days</td>\n",
       "      <td>52.360576</td>\n",
       "      <td>4.915968</td>\n",
       "      <td>2017</td>\n",
       "      <td>no real complaints the hotel was great great ...</td>\n",
       "      <td>Netherlands</td>\n",
       "    </tr>\n",
       "    <tr>\n",
       "      <th>2</th>\n",
       "      <td>s Gravesandestraat 55 Oost 1092 AA Amsterdam ...</td>\n",
       "      <td>194</td>\n",
       "      <td>2017-07-31</td>\n",
       "      <td>7.7</td>\n",
       "      <td>Hotel Arena</td>\n",
       "      <td>Australia</td>\n",
       "      <td>Rooms are nice but for elderly a bit difficul...</td>\n",
       "      <td>42</td>\n",
       "      <td>1403</td>\n",
       "      <td>Location was good and staff were ok It is cut...</td>\n",
       "      <td>21</td>\n",
       "      <td>9</td>\n",
       "      <td>7.1</td>\n",
       "      <td>[' Leisure trip ', ' Family with young childre...</td>\n",
       "      <td>3 days</td>\n",
       "      <td>52.360576</td>\n",
       "      <td>4.915968</td>\n",
       "      <td>2017</td>\n",
       "      <td>rooms are nice but for elderly a bit difficul...</td>\n",
       "      <td>Netherlands</td>\n",
       "    </tr>\n",
       "    <tr>\n",
       "      <th>3</th>\n",
       "      <td>s Gravesandestraat 55 Oost 1092 AA Amsterdam ...</td>\n",
       "      <td>194</td>\n",
       "      <td>2017-07-31</td>\n",
       "      <td>7.7</td>\n",
       "      <td>Hotel Arena</td>\n",
       "      <td>United Kingdom</td>\n",
       "      <td>My room was dirty and I was afraid to walk ba...</td>\n",
       "      <td>210</td>\n",
       "      <td>1403</td>\n",
       "      <td>Great location in nice surroundings the bar a...</td>\n",
       "      <td>26</td>\n",
       "      <td>1</td>\n",
       "      <td>3.8</td>\n",
       "      <td>[' Leisure trip ', ' Solo traveler ', ' Duplex...</td>\n",
       "      <td>3 days</td>\n",
       "      <td>52.360576</td>\n",
       "      <td>4.915968</td>\n",
       "      <td>2017</td>\n",
       "      <td>my room was dirty and i was afraid to walk ba...</td>\n",
       "      <td>Netherlands</td>\n",
       "    </tr>\n",
       "    <tr>\n",
       "      <th>4</th>\n",
       "      <td>s Gravesandestraat 55 Oost 1092 AA Amsterdam ...</td>\n",
       "      <td>194</td>\n",
       "      <td>2017-07-24</td>\n",
       "      <td>7.7</td>\n",
       "      <td>Hotel Arena</td>\n",
       "      <td>New Zealand</td>\n",
       "      <td>You When I booked with your company on line y...</td>\n",
       "      <td>140</td>\n",
       "      <td>1403</td>\n",
       "      <td>Amazing location and building Romantic setting</td>\n",
       "      <td>8</td>\n",
       "      <td>3</td>\n",
       "      <td>6.7</td>\n",
       "      <td>[' Leisure trip ', ' Couple ', ' Suite ', ' St...</td>\n",
       "      <td>10 days</td>\n",
       "      <td>52.360576</td>\n",
       "      <td>4.915968</td>\n",
       "      <td>2017</td>\n",
       "      <td>you when i booked with your company on line y...</td>\n",
       "      <td>Netherlands</td>\n",
       "    </tr>\n",
       "    <tr>\n",
       "      <th>...</th>\n",
       "      <td>...</td>\n",
       "      <td>...</td>\n",
       "      <td>...</td>\n",
       "      <td>...</td>\n",
       "      <td>...</td>\n",
       "      <td>...</td>\n",
       "      <td>...</td>\n",
       "      <td>...</td>\n",
       "      <td>...</td>\n",
       "      <td>...</td>\n",
       "      <td>...</td>\n",
       "      <td>...</td>\n",
       "      <td>...</td>\n",
       "      <td>...</td>\n",
       "      <td>...</td>\n",
       "      <td>...</td>\n",
       "      <td>...</td>\n",
       "      <td>...</td>\n",
       "      <td>...</td>\n",
       "      <td>...</td>\n",
       "    </tr>\n",
       "    <tr>\n",
       "      <th>515733</th>\n",
       "      <td>Wurzbachgasse 21 15 Rudolfsheim F nfhaus 1150 ...</td>\n",
       "      <td>168</td>\n",
       "      <td>2015-08-30</td>\n",
       "      <td>8.1</td>\n",
       "      <td>Atlantis Hotel Vienna</td>\n",
       "      <td>Kuwait</td>\n",
       "      <td>no trolly or staff to help you take the lugga...</td>\n",
       "      <td>14</td>\n",
       "      <td>2823</td>\n",
       "      <td>location</td>\n",
       "      <td>2</td>\n",
       "      <td>8</td>\n",
       "      <td>7.0</td>\n",
       "      <td>[' Leisure trip ', ' Family with older childre...</td>\n",
       "      <td>704 day</td>\n",
       "      <td>48.203745</td>\n",
       "      <td>16.335677</td>\n",
       "      <td>2015</td>\n",
       "      <td>no trolly or staff to help you take the lugga...</td>\n",
       "      <td>Austria</td>\n",
       "    </tr>\n",
       "    <tr>\n",
       "      <th>515734</th>\n",
       "      <td>Wurzbachgasse 21 15 Rudolfsheim F nfhaus 1150 ...</td>\n",
       "      <td>168</td>\n",
       "      <td>2015-08-22</td>\n",
       "      <td>8.1</td>\n",
       "      <td>Atlantis Hotel Vienna</td>\n",
       "      <td>Estonia</td>\n",
       "      <td>The hotel looks like 3 but surely not 4</td>\n",
       "      <td>11</td>\n",
       "      <td>2823</td>\n",
       "      <td>Breakfast was ok and we got earlier check in</td>\n",
       "      <td>11</td>\n",
       "      <td>12</td>\n",
       "      <td>5.8</td>\n",
       "      <td>[' Leisure trip ', ' Family with young childre...</td>\n",
       "      <td>712 day</td>\n",
       "      <td>48.203745</td>\n",
       "      <td>16.335677</td>\n",
       "      <td>2015</td>\n",
       "      <td>the hotel looks like   but surely not    brea...</td>\n",
       "      <td>Austria</td>\n",
       "    </tr>\n",
       "    <tr>\n",
       "      <th>515735</th>\n",
       "      <td>Wurzbachgasse 21 15 Rudolfsheim F nfhaus 1150 ...</td>\n",
       "      <td>168</td>\n",
       "      <td>2015-08-19</td>\n",
       "      <td>8.1</td>\n",
       "      <td>Atlantis Hotel Vienna</td>\n",
       "      <td>Egypt</td>\n",
       "      <td>The ac was useless It was a hot week in vienn...</td>\n",
       "      <td>19</td>\n",
       "      <td>2823</td>\n",
       "      <td></td>\n",
       "      <td>0</td>\n",
       "      <td>3</td>\n",
       "      <td>2.5</td>\n",
       "      <td>[' Leisure trip ', ' Family with older childre...</td>\n",
       "      <td>715 day</td>\n",
       "      <td>48.203745</td>\n",
       "      <td>16.335677</td>\n",
       "      <td>2015</td>\n",
       "      <td>the ac was useless it was a hot week in vienn...</td>\n",
       "      <td>Austria</td>\n",
       "    </tr>\n",
       "    <tr>\n",
       "      <th>515736</th>\n",
       "      <td>Wurzbachgasse 21 15 Rudolfsheim F nfhaus 1150 ...</td>\n",
       "      <td>168</td>\n",
       "      <td>2015-08-17</td>\n",
       "      <td>8.1</td>\n",
       "      <td>Atlantis Hotel Vienna</td>\n",
       "      <td>Mexico</td>\n",
       "      <td></td>\n",
       "      <td>0</td>\n",
       "      <td>2823</td>\n",
       "      <td>The rooms are enormous and really comfortable...</td>\n",
       "      <td>25</td>\n",
       "      <td>3</td>\n",
       "      <td>8.8</td>\n",
       "      <td>[' Leisure trip ', ' Group ', ' Standard Tripl...</td>\n",
       "      <td>717 day</td>\n",
       "      <td>48.203745</td>\n",
       "      <td>16.335677</td>\n",
       "      <td>2015</td>\n",
       "      <td>the rooms are enormous and really comfortable...</td>\n",
       "      <td>Austria</td>\n",
       "    </tr>\n",
       "    <tr>\n",
       "      <th>515737</th>\n",
       "      <td>Wurzbachgasse 21 15 Rudolfsheim F nfhaus 1150 ...</td>\n",
       "      <td>168</td>\n",
       "      <td>2015-08-09</td>\n",
       "      <td>8.1</td>\n",
       "      <td>Atlantis Hotel Vienna</td>\n",
       "      <td>Hungary</td>\n",
       "      <td>I was in 3rd floor It didn t work Free Wife</td>\n",
       "      <td>13</td>\n",
       "      <td>2823</td>\n",
       "      <td>staff was very kind</td>\n",
       "      <td>6</td>\n",
       "      <td>1</td>\n",
       "      <td>8.3</td>\n",
       "      <td>[' Leisure trip ', ' Family with young childre...</td>\n",
       "      <td>725 day</td>\n",
       "      <td>48.203745</td>\n",
       "      <td>16.335677</td>\n",
       "      <td>2015</td>\n",
       "      <td>i was in  rd floor it didn t work free wife  ...</td>\n",
       "      <td>Austria</td>\n",
       "    </tr>\n",
       "  </tbody>\n",
       "</table>\n",
       "<p>512470 rows × 20 columns</p>\n",
       "</div>"
      ],
      "text/plain": [
       "                                            Hotel_Address  \\\n",
       "0        s Gravesandestraat 55 Oost 1092 AA Amsterdam ...   \n",
       "1        s Gravesandestraat 55 Oost 1092 AA Amsterdam ...   \n",
       "2        s Gravesandestraat 55 Oost 1092 AA Amsterdam ...   \n",
       "3        s Gravesandestraat 55 Oost 1092 AA Amsterdam ...   \n",
       "4        s Gravesandestraat 55 Oost 1092 AA Amsterdam ...   \n",
       "...                                                   ...   \n",
       "515733  Wurzbachgasse 21 15 Rudolfsheim F nfhaus 1150 ...   \n",
       "515734  Wurzbachgasse 21 15 Rudolfsheim F nfhaus 1150 ...   \n",
       "515735  Wurzbachgasse 21 15 Rudolfsheim F nfhaus 1150 ...   \n",
       "515736  Wurzbachgasse 21 15 Rudolfsheim F nfhaus 1150 ...   \n",
       "515737  Wurzbachgasse 21 15 Rudolfsheim F nfhaus 1150 ...   \n",
       "\n",
       "        Additional_Number_of_Scoring Review_Date  Average_Score  \\\n",
       "0                                194  2017-08-03            7.7   \n",
       "1                                194  2017-08-03            7.7   \n",
       "2                                194  2017-07-31            7.7   \n",
       "3                                194  2017-07-31            7.7   \n",
       "4                                194  2017-07-24            7.7   \n",
       "...                              ...         ...            ...   \n",
       "515733                           168  2015-08-30            8.1   \n",
       "515734                           168  2015-08-22            8.1   \n",
       "515735                           168  2015-08-19            8.1   \n",
       "515736                           168  2015-08-17            8.1   \n",
       "515737                           168  2015-08-09            8.1   \n",
       "\n",
       "                   Hotel_Name Reviewer_Nationality  \\\n",
       "0                 Hotel Arena              Russia    \n",
       "1                 Hotel Arena             Ireland    \n",
       "2                 Hotel Arena           Australia    \n",
       "3                 Hotel Arena      United Kingdom    \n",
       "4                 Hotel Arena         New Zealand    \n",
       "...                       ...                  ...   \n",
       "515733  Atlantis Hotel Vienna              Kuwait    \n",
       "515734  Atlantis Hotel Vienna             Estonia    \n",
       "515735  Atlantis Hotel Vienna               Egypt    \n",
       "515736  Atlantis Hotel Vienna              Mexico    \n",
       "515737  Atlantis Hotel Vienna             Hungary    \n",
       "\n",
       "                                          Negative_Review  \\\n",
       "0        I am so angry that i made this post available...   \n",
       "1                                                           \n",
       "2        Rooms are nice but for elderly a bit difficul...   \n",
       "3        My room was dirty and I was afraid to walk ba...   \n",
       "4        You When I booked with your company on line y...   \n",
       "...                                                   ...   \n",
       "515733   no trolly or staff to help you take the lugga...   \n",
       "515734           The hotel looks like 3 but surely not 4    \n",
       "515735   The ac was useless It was a hot week in vienn...   \n",
       "515736                                                      \n",
       "515737       I was in 3rd floor It didn t work Free Wife    \n",
       "\n",
       "        Review_Total_Negative_Word_Counts  Total_Number_of_Reviews  \\\n",
       "0                                     397                     1403   \n",
       "1                                       0                     1403   \n",
       "2                                      42                     1403   \n",
       "3                                     210                     1403   \n",
       "4                                     140                     1403   \n",
       "...                                   ...                      ...   \n",
       "515733                                 14                     2823   \n",
       "515734                                 11                     2823   \n",
       "515735                                 19                     2823   \n",
       "515736                                  0                     2823   \n",
       "515737                                 13                     2823   \n",
       "\n",
       "                                          Positive_Review  \\\n",
       "0        Only the park outside of the hotel was beauti...   \n",
       "1        No real complaints the hotel was great great ...   \n",
       "2        Location was good and staff were ok It is cut...   \n",
       "3        Great location in nice surroundings the bar a...   \n",
       "4         Amazing location and building Romantic setting    \n",
       "...                                                   ...   \n",
       "515733                                           location   \n",
       "515734      Breakfast was ok and we got earlier check in    \n",
       "515735                                                      \n",
       "515736   The rooms are enormous and really comfortable...   \n",
       "515737                               staff was very kind    \n",
       "\n",
       "        Review_Total_Positive_Word_Counts  \\\n",
       "0                                      11   \n",
       "1                                     105   \n",
       "2                                      21   \n",
       "3                                      26   \n",
       "4                                       8   \n",
       "...                                   ...   \n",
       "515733                                  2   \n",
       "515734                                 11   \n",
       "515735                                  0   \n",
       "515736                                 25   \n",
       "515737                                  6   \n",
       "\n",
       "        Total_Number_of_Reviews_Reviewer_Has_Given  Reviewer_Score  \\\n",
       "0                                                7             2.9   \n",
       "1                                                7             7.5   \n",
       "2                                                9             7.1   \n",
       "3                                                1             3.8   \n",
       "4                                                3             6.7   \n",
       "...                                            ...             ...   \n",
       "515733                                           8             7.0   \n",
       "515734                                          12             5.8   \n",
       "515735                                           3             2.5   \n",
       "515736                                           3             8.8   \n",
       "515737                                           1             8.3   \n",
       "\n",
       "                                                     Tags days_since_review  \\\n",
       "0       [' Leisure trip ', ' Couple ', ' Duplex Double...            0 days   \n",
       "1       [' Leisure trip ', ' Couple ', ' Duplex Double...            0 days   \n",
       "2       [' Leisure trip ', ' Family with young childre...            3 days   \n",
       "3       [' Leisure trip ', ' Solo traveler ', ' Duplex...            3 days   \n",
       "4       [' Leisure trip ', ' Couple ', ' Suite ', ' St...           10 days   \n",
       "...                                                   ...               ...   \n",
       "515733  [' Leisure trip ', ' Family with older childre...           704 day   \n",
       "515734  [' Leisure trip ', ' Family with young childre...           712 day   \n",
       "515735  [' Leisure trip ', ' Family with older childre...           715 day   \n",
       "515736  [' Leisure trip ', ' Group ', ' Standard Tripl...           717 day   \n",
       "515737  [' Leisure trip ', ' Family with young childre...           725 day   \n",
       "\n",
       "              lat        lng  Review_year  \\\n",
       "0       52.360576   4.915968         2017   \n",
       "1       52.360576   4.915968         2017   \n",
       "2       52.360576   4.915968         2017   \n",
       "3       52.360576   4.915968         2017   \n",
       "4       52.360576   4.915968         2017   \n",
       "...           ...        ...          ...   \n",
       "515733  48.203745  16.335677         2015   \n",
       "515734  48.203745  16.335677         2015   \n",
       "515735  48.203745  16.335677         2015   \n",
       "515736  48.203745  16.335677         2015   \n",
       "515737  48.203745  16.335677         2015   \n",
       "\n",
       "                                             Total_Review hotel_country  \n",
       "0        i am so angry that i made this post available...   Netherlands  \n",
       "1        no real complaints the hotel was great great ...   Netherlands  \n",
       "2        rooms are nice but for elderly a bit difficul...   Netherlands  \n",
       "3        my room was dirty and i was afraid to walk ba...   Netherlands  \n",
       "4        you when i booked with your company on line y...   Netherlands  \n",
       "...                                                   ...           ...  \n",
       "515733   no trolly or staff to help you take the lugga...       Austria  \n",
       "515734   the hotel looks like   but surely not    brea...       Austria  \n",
       "515735   the ac was useless it was a hot week in vienn...       Austria  \n",
       "515736   the rooms are enormous and really comfortable...       Austria  \n",
       "515737   i was in  rd floor it didn t work free wife  ...       Austria  \n",
       "\n",
       "[512470 rows x 20 columns]"
      ]
     },
     "execution_count": 189,
     "metadata": {},
     "output_type": "execute_result"
    }
   ],
   "source": [
    "Hotel_Reviews"
   ]
  },
  {
   "cell_type": "markdown",
   "id": "1ae43ab3",
   "metadata": {},
   "source": [
    "## Exploratory Data Analysis"
   ]
  },
  {
   "cell_type": "code",
   "execution_count": 190,
   "id": "2380dba5",
   "metadata": {},
   "outputs": [
    {
     "data": {
      "image/png": "[encoded data removed]",
      "text/plain": [
       "<Figure size 720x432 with 1 Axes>"
      ]
     },
     "metadata": {
      "needs_background": "light"
     },
     "output_type": "display_data"
    }
   ],
   "source": [
    "plt.figure(figsize=(10, 6))\n",
    "plt.boxplot(Hotel_Reviews.Reviewer_Score)\n",
    "plt.xlabel(\"Reviewer_score\")\n",
    "plt.title(\"Reviewer_score distribution in hotel_reviews dataset\")\n",
    "plt.show()"
   ]
  },
  {
   "cell_type": "code",
   "execution_count": 191,
   "id": "91941091",
   "metadata": {},
   "outputs": [
    {
     "data": {
      "image/png": "[encoded data removed]",
      "text/plain": [
       "<Figure size 432x288 with 1 Axes>"
      ]
     },
     "metadata": {
      "needs_background": "light"
     },
     "output_type": "display_data"
    }
   ],
   "source": [
    "plt.hist(Hotel_Reviews['Reviewer_Score'],bins=20,edgecolor=\n",
    "        \"black\")\n",
    "plt.xlabel(\"Reviewer_Score\")\n",
    "plt.ylabel(\"Frequency\")\n",
    "plt.title(\"Reviewer_Score distribution\")\n",
    "plt.show()"
   ]
  },
  {
   "cell_type": "code",
   "execution_count": 192,
   "id": "45912b96",
   "metadata": {},
   "outputs": [
    {
     "data": {
      "image/png": "[encoded data removed]",
      "text/plain": [
       "<Figure size 432x288 with 1 Axes>"
      ]
     },
     "metadata": {
      "needs_background": "light"
     },
     "output_type": "display_data"
    }
   ],
   "source": [
    "plt.hist(Hotel_Reviews['Average_Score'],bins=20,edgecolor=\n",
    "        \"black\")\n",
    "plt.xlabel(\"Average_Score\")\n",
    "plt.ylabel(\"Frequency\")\n",
    "plt.title(\"Average_Score distribution\")\n",
    "plt.show()"
   ]
  },
  {
   "cell_type": "code",
   "execution_count": 193,
   "id": "689eb0b3",
   "metadata": {},
   "outputs": [
    {
     "data": {
      "image/png": "[encoded data removed]",
      "text/plain": [
       "<Figure size 432x288 with 1 Axes>"
      ]
     },
     "metadata": {
      "needs_background": "light"
     },
     "output_type": "display_data"
    }
   ],
   "source": [
    "sns.boxplot(x='Review_year',y='Reviewer_Score',data=Hotel_Reviews)\n",
    "plt.xlabel(\"Year\")\n",
    "plt.ylabel(\"Score\")\n",
    "plt.title(\"Score distribution by year in Hotel reviews data\")\n",
    "plt.show()"
   ]
  },
  {
   "cell_type": "code",
   "execution_count": 194,
   "id": "ef658bca",
   "metadata": {},
   "outputs": [
    {
     "data": {
      "text/html": [
       "<div>\n",
       "<style scoped>\n",
       "    .dataframe tbody tr th:only-of-type {\n",
       "        vertical-align: middle;\n",
       "    }\n",
       "\n",
       "    .dataframe tbody tr th {\n",
       "        vertical-align: top;\n",
       "    }\n",
       "\n",
       "    .dataframe thead th {\n",
       "        text-align: right;\n",
       "    }\n",
       "</style>\n",
       "<table border=\"1\" class=\"dataframe\">\n",
       "  <thead>\n",
       "    <tr style=\"text-align: right;\">\n",
       "      <th></th>\n",
       "      <th>Hotel_Name</th>\n",
       "      <th>hotel_country</th>\n",
       "      <th>Total_Review</th>\n",
       "      <th>Reviewer_Score</th>\n",
       "      <th>Average_Score</th>\n",
       "      <th>Reviewer_Nationality</th>\n",
       "      <th>Total_Number_of_Reviews_Reviewer_Has_Given</th>\n",
       "      <th>Tags</th>\n",
       "    </tr>\n",
       "  </thead>\n",
       "  <tbody>\n",
       "    <tr>\n",
       "      <th>0</th>\n",
       "      <td>Hotel Arena</td>\n",
       "      <td>Netherlands</td>\n",
       "      <td>i am so angry that i made this post available...</td>\n",
       "      <td>2.9</td>\n",
       "      <td>7.7</td>\n",
       "      <td>Russia</td>\n",
       "      <td>7</td>\n",
       "      <td>[' Leisure trip ', ' Couple ', ' Duplex Double...</td>\n",
       "    </tr>\n",
       "    <tr>\n",
       "      <th>1</th>\n",
       "      <td>Hotel Arena</td>\n",
       "      <td>Netherlands</td>\n",
       "      <td>no real complaints the hotel was great great ...</td>\n",
       "      <td>7.5</td>\n",
       "      <td>7.7</td>\n",
       "      <td>Ireland</td>\n",
       "      <td>7</td>\n",
       "      <td>[' Leisure trip ', ' Couple ', ' Duplex Double...</td>\n",
       "    </tr>\n",
       "    <tr>\n",
       "      <th>2</th>\n",
       "      <td>Hotel Arena</td>\n",
       "      <td>Netherlands</td>\n",
       "      <td>rooms are nice but for elderly a bit difficul...</td>\n",
       "      <td>7.1</td>\n",
       "      <td>7.7</td>\n",
       "      <td>Australia</td>\n",
       "      <td>9</td>\n",
       "      <td>[' Leisure trip ', ' Family with young childre...</td>\n",
       "    </tr>\n",
       "    <tr>\n",
       "      <th>3</th>\n",
       "      <td>Hotel Arena</td>\n",
       "      <td>Netherlands</td>\n",
       "      <td>my room was dirty and i was afraid to walk ba...</td>\n",
       "      <td>3.8</td>\n",
       "      <td>7.7</td>\n",
       "      <td>United Kingdom</td>\n",
       "      <td>1</td>\n",
       "      <td>[' Leisure trip ', ' Solo traveler ', ' Duplex...</td>\n",
       "    </tr>\n",
       "    <tr>\n",
       "      <th>4</th>\n",
       "      <td>Hotel Arena</td>\n",
       "      <td>Netherlands</td>\n",
       "      <td>you when i booked with your company on line y...</td>\n",
       "      <td>6.7</td>\n",
       "      <td>7.7</td>\n",
       "      <td>New Zealand</td>\n",
       "      <td>3</td>\n",
       "      <td>[' Leisure trip ', ' Couple ', ' Suite ', ' St...</td>\n",
       "    </tr>\n",
       "  </tbody>\n",
       "</table>\n",
       "</div>"
      ],
      "text/plain": [
       "    Hotel_Name hotel_country  \\\n",
       "0  Hotel Arena   Netherlands   \n",
       "1  Hotel Arena   Netherlands   \n",
       "2  Hotel Arena   Netherlands   \n",
       "3  Hotel Arena   Netherlands   \n",
       "4  Hotel Arena   Netherlands   \n",
       "\n",
       "                                        Total_Review  Reviewer_Score  \\\n",
       "0   i am so angry that i made this post available...             2.9   \n",
       "1   no real complaints the hotel was great great ...             7.5   \n",
       "2   rooms are nice but for elderly a bit difficul...             7.1   \n",
       "3   my room was dirty and i was afraid to walk ba...             3.8   \n",
       "4   you when i booked with your company on line y...             6.7   \n",
       "\n",
       "   Average_Score Reviewer_Nationality  \\\n",
       "0            7.7              Russia    \n",
       "1            7.7             Ireland    \n",
       "2            7.7           Australia    \n",
       "3            7.7      United Kingdom    \n",
       "4            7.7         New Zealand    \n",
       "\n",
       "   Total_Number_of_Reviews_Reviewer_Has_Given  \\\n",
       "0                                           7   \n",
       "1                                           7   \n",
       "2                                           9   \n",
       "3                                           1   \n",
       "4                                           3   \n",
       "\n",
       "                                                Tags  \n",
       "0  [' Leisure trip ', ' Couple ', ' Duplex Double...  \n",
       "1  [' Leisure trip ', ' Couple ', ' Duplex Double...  \n",
       "2  [' Leisure trip ', ' Family with young childre...  \n",
       "3  [' Leisure trip ', ' Solo traveler ', ' Duplex...  \n",
       "4  [' Leisure trip ', ' Couple ', ' Suite ', ' St...  "
      ]
     },
     "execution_count": 194,
     "metadata": {},
     "output_type": "execute_result"
    }
   ],
   "source": [
    "review_df = Hotel_Reviews[['Hotel_Name','hotel_country','Total_Review','Reviewer_Score','Average_Score','Reviewer_Nationality',\n",
    "                           'Total_Number_of_Reviews_Reviewer_Has_Given','Tags']]\n",
    "review_df.head()"
   ]
  },
  {
   "cell_type": "code",
   "execution_count": null,
   "id": "7a2ccc4d",
   "metadata": {},
   "outputs": [],
   "source": []
  },
  {
   "cell_type": "markdown",
   "id": "76312074",
   "metadata": {},
   "source": [
    "## Feature Enginerring\n",
    "\n",
    "We will first be performing sentiment analysis on Total_reviews which is combination of positive and negative reviews and collect sentiment scores from Vader model.\n",
    "Then further using these as our features and Reviewer_score as Target variable."
   ]
  },
  {
   "cell_type": "markdown",
   "id": "22e7c52e",
   "metadata": {},
   "source": [
    "## Vader Sentiment Scoring\n",
    "\n",
    "We will use NLTK's SentimentIntensityAnalyzer to get the neg/neu/pos scores of the text.\n",
    "\n",
    "This uses a \"bag of words\" approach:\n",
    "Stop words are removed\n",
    "each word is scored and combined to a total score.\n",
    "This don't consider relationship between words so this will not be a very optimized approach."
   ]
  },
  {
   "cell_type": "code",
   "execution_count": 195,
   "id": "56b040f1",
   "metadata": {},
   "outputs": [],
   "source": [
    "from nltk.sentiment import SentimentIntensityAnalyzer\n",
    "from tqdm.notebook import tqdm\n",
    "\n",
    "sia = SentimentIntensityAnalyzer()"
   ]
  },
  {
   "cell_type": "code",
   "execution_count": 196,
   "id": "29afc13e",
   "metadata": {},
   "outputs": [
    {
     "data": {
      "application/vnd.jupyter.widget-view+json": {
       "model_id": "781b487e8d8e448cb0a445cf82c7767b",
       "version_major": 2,
       "version_minor": 0
      },
      "text/plain": [
       "  0%|          | 0/512470 [00:00<?, ?it/s]"
      ]
     },
     "metadata": {},
     "output_type": "display_data"
    }
   ],
   "source": [
    "# Run the polarity score on the entire dataset\n",
    "res = {}\n",
    "for i, row in tqdm(review_df.Total_Review.reset_index().iterrows(), total=len(review_df)):\n",
    "    text = row['Total_Review']\n",
    "    myid = row['index']\n",
    "    res[myid] = sia.polarity_scores(text)"
   ]
  },
  {
   "cell_type": "code",
   "execution_count": 197,
   "id": "c717e7ff",
   "metadata": {},
   "outputs": [],
   "source": [
    "vaders = pd.DataFrame(res).T\n",
    "vaders = vaders.reset_index()\n",
    "vaders = vaders.merge(review_df.reset_index(), how='left')"
   ]
  },
  {
   "cell_type": "code",
   "execution_count": 198,
   "id": "b7dce6cf",
   "metadata": {},
   "outputs": [
    {
     "data": {
      "text/html": [
       "<div>\n",
       "<style scoped>\n",
       "    .dataframe tbody tr th:only-of-type {\n",
       "        vertical-align: middle;\n",
       "    }\n",
       "\n",
       "    .dataframe tbody tr th {\n",
       "        vertical-align: top;\n",
       "    }\n",
       "\n",
       "    .dataframe thead th {\n",
       "        text-align: right;\n",
       "    }\n",
       "</style>\n",
       "<table border=\"1\" class=\"dataframe\">\n",
       "  <thead>\n",
       "    <tr style=\"text-align: right;\">\n",
       "      <th></th>\n",
       "      <th>index</th>\n",
       "      <th>neg</th>\n",
       "      <th>neu</th>\n",
       "      <th>pos</th>\n",
       "      <th>compound</th>\n",
       "      <th>Hotel_Name</th>\n",
       "      <th>hotel_country</th>\n",
       "      <th>Total_Review</th>\n",
       "      <th>Reviewer_Score</th>\n",
       "      <th>Average_Score</th>\n",
       "      <th>Reviewer_Nationality</th>\n",
       "      <th>Total_Number_of_Reviews_Reviewer_Has_Given</th>\n",
       "      <th>Tags</th>\n",
       "    </tr>\n",
       "  </thead>\n",
       "  <tbody>\n",
       "    <tr>\n",
       "      <th>0</th>\n",
       "      <td>0</td>\n",
       "      <td>0.085</td>\n",
       "      <td>0.857</td>\n",
       "      <td>0.059</td>\n",
       "      <td>-0.8589</td>\n",
       "      <td>Hotel Arena</td>\n",
       "      <td>Netherlands</td>\n",
       "      <td>i am so angry that i made this post available...</td>\n",
       "      <td>2.9</td>\n",
       "      <td>7.7</td>\n",
       "      <td>Russia</td>\n",
       "      <td>7</td>\n",
       "      <td>[' Leisure trip ', ' Couple ', ' Duplex Double...</td>\n",
       "    </tr>\n",
       "    <tr>\n",
       "      <th>1</th>\n",
       "      <td>1</td>\n",
       "      <td>0.058</td>\n",
       "      <td>0.757</td>\n",
       "      <td>0.186</td>\n",
       "      <td>0.9494</td>\n",
       "      <td>Hotel Arena</td>\n",
       "      <td>Netherlands</td>\n",
       "      <td>no real complaints the hotel was great great ...</td>\n",
       "      <td>7.5</td>\n",
       "      <td>7.7</td>\n",
       "      <td>Ireland</td>\n",
       "      <td>7</td>\n",
       "      <td>[' Leisure trip ', ' Couple ', ' Duplex Double...</td>\n",
       "    </tr>\n",
       "    <tr>\n",
       "      <th>2</th>\n",
       "      <td>2</td>\n",
       "      <td>0.111</td>\n",
       "      <td>0.671</td>\n",
       "      <td>0.218</td>\n",
       "      <td>0.8402</td>\n",
       "      <td>Hotel Arena</td>\n",
       "      <td>Netherlands</td>\n",
       "      <td>rooms are nice but for elderly a bit difficul...</td>\n",
       "      <td>7.1</td>\n",
       "      <td>7.7</td>\n",
       "      <td>Australia</td>\n",
       "      <td>9</td>\n",
       "      <td>[' Leisure trip ', ' Family with young childre...</td>\n",
       "    </tr>\n",
       "    <tr>\n",
       "      <th>3</th>\n",
       "      <td>3</td>\n",
       "      <td>0.099</td>\n",
       "      <td>0.754</td>\n",
       "      <td>0.147</td>\n",
       "      <td>0.9355</td>\n",
       "      <td>Hotel Arena</td>\n",
       "      <td>Netherlands</td>\n",
       "      <td>my room was dirty and i was afraid to walk ba...</td>\n",
       "      <td>3.8</td>\n",
       "      <td>7.7</td>\n",
       "      <td>United Kingdom</td>\n",
       "      <td>1</td>\n",
       "      <td>[' Leisure trip ', ' Solo traveler ', ' Duplex...</td>\n",
       "    </tr>\n",
       "    <tr>\n",
       "      <th>4</th>\n",
       "      <td>4</td>\n",
       "      <td>0.058</td>\n",
       "      <td>0.861</td>\n",
       "      <td>0.081</td>\n",
       "      <td>0.5263</td>\n",
       "      <td>Hotel Arena</td>\n",
       "      <td>Netherlands</td>\n",
       "      <td>you when i booked with your company on line y...</td>\n",
       "      <td>6.7</td>\n",
       "      <td>7.7</td>\n",
       "      <td>New Zealand</td>\n",
       "      <td>3</td>\n",
       "      <td>[' Leisure trip ', ' Couple ', ' Suite ', ' St...</td>\n",
       "    </tr>\n",
       "  </tbody>\n",
       "</table>\n",
       "</div>"
      ],
      "text/plain": [
       "   index    neg    neu    pos  compound   Hotel_Name hotel_country  \\\n",
       "0      0  0.085  0.857  0.059   -0.8589  Hotel Arena   Netherlands   \n",
       "1      1  0.058  0.757  0.186    0.9494  Hotel Arena   Netherlands   \n",
       "2      2  0.111  0.671  0.218    0.8402  Hotel Arena   Netherlands   \n",
       "3      3  0.099  0.754  0.147    0.9355  Hotel Arena   Netherlands   \n",
       "4      4  0.058  0.861  0.081    0.5263  Hotel Arena   Netherlands   \n",
       "\n",
       "                                        Total_Review  Reviewer_Score  \\\n",
       "0   i am so angry that i made this post available...             2.9   \n",
       "1   no real complaints the hotel was great great ...             7.5   \n",
       "2   rooms are nice but for elderly a bit difficul...             7.1   \n",
       "3   my room was dirty and i was afraid to walk ba...             3.8   \n",
       "4   you when i booked with your company on line y...             6.7   \n",
       "\n",
       "   Average_Score Reviewer_Nationality  \\\n",
       "0            7.7              Russia    \n",
       "1            7.7             Ireland    \n",
       "2            7.7           Australia    \n",
       "3            7.7      United Kingdom    \n",
       "4            7.7         New Zealand    \n",
       "\n",
       "   Total_Number_of_Reviews_Reviewer_Has_Given  \\\n",
       "0                                           7   \n",
       "1                                           7   \n",
       "2                                           9   \n",
       "3                                           1   \n",
       "4                                           3   \n",
       "\n",
       "                                                Tags  \n",
       "0  [' Leisure trip ', ' Couple ', ' Duplex Double...  \n",
       "1  [' Leisure trip ', ' Couple ', ' Duplex Double...  \n",
       "2  [' Leisure trip ', ' Family with young childre...  \n",
       "3  [' Leisure trip ', ' Solo traveler ', ' Duplex...  \n",
       "4  [' Leisure trip ', ' Couple ', ' Suite ', ' St...  "
      ]
     },
     "execution_count": 198,
     "metadata": {},
     "output_type": "execute_result"
    }
   ],
   "source": [
    "vaders.head()"
   ]
  },
  {
   "cell_type": "code",
   "execution_count": null,
   "id": "c1ce73f3",
   "metadata": {},
   "outputs": [],
   "source": []
  },
  {
   "cell_type": "code",
   "execution_count": null,
   "id": "2b8254bb",
   "metadata": {},
   "outputs": [],
   "source": []
  },
  {
   "cell_type": "markdown",
   "id": "12f3b780",
   "metadata": {},
   "source": [
    "## Model fititng\n",
    "\n",
    "We have performed sentiment analysis, now we will use Decision Tree Regressor, Random Forest Regressor and Adaboost Model to predict Reviewer Score."
   ]
  },
  {
   "cell_type": "code",
   "execution_count": 199,
   "id": "112c6c88",
   "metadata": {},
   "outputs": [],
   "source": [
    "from sklearn.tree import DecisionTreeRegressor\n",
    "from sklearn.ensemble import RandomForestRegressor, AdaBoostRegressor\n",
    "from sklearn.metrics import mean_squared_error, r2_score"
   ]
  },
  {
   "cell_type": "code",
   "execution_count": 200,
   "id": "f9209065",
   "metadata": {},
   "outputs": [],
   "source": [
    "X = vaders[['neg','neu','pos','compound']]"
   ]
  },
  {
   "cell_type": "code",
   "execution_count": 201,
   "id": "94c384c1",
   "metadata": {},
   "outputs": [],
   "source": [
    "X_train, X_test, y_train, y_test = train_test_split(\n",
    "    X, \n",
    "    vaders['Reviewer_Score'], \n",
    "    test_size=0.25, \n",
    "    random_state=42\n",
    "  )"
   ]
  },
  {
   "cell_type": "code",
   "execution_count": 209,
   "id": "a03dda9c",
   "metadata": {},
   "outputs": [
    {
     "name": "stdout",
     "output_type": "stream",
     "text": [
      "Random Forest MSE: 2.0228066866555814\n"
     ]
    }
   ],
   "source": [
    "# Fit a Random Forest regressor\n",
    "\n",
    "rf_model = RandomForestRegressor(random_state=5220,n_estimators = 100)\n",
    "rf_model.fit(X_train,y_train)\n",
    "\n",
    "# Make predictions with the Random Forest regressor\n",
    "rf_pred = rf_model.predict(X_test)\n",
    "\n",
    "# Calculate metrics for the Random Forest regressor\n",
    "rfmse = mean_squared_error(y_test, rf_pred)\n",
    "print(\"Random Forest MSE:\", rfmse)"
   ]
  },
  {
   "cell_type": "code",
   "execution_count": 210,
   "id": "570f64a1",
   "metadata": {},
   "outputs": [
    {
     "name": "stdout",
     "output_type": "stream",
     "text": [
      "Adaboost MSE: 2.100317199537433\n"
     ]
    }
   ],
   "source": [
    "# Fit an AdaBoost regressor\n",
    "ab_model = AdaBoostRegressor(n_estimators=100,random_state = 5220)\n",
    "ab_model.fit(X_train,y_train)\n",
    "\n",
    "# Make predictions with the AdaBoost regressor\n",
    "adaboost_pred = ab_model.predict(X_test)\n",
    "\n",
    "# Calculate metrics for the AdaBoost regressor\n",
    "\n",
    "abmse = mean_squared_error(y_test, adaboost_pred)\n",
    "print(\"Adaboost MSE:\", abmse)"
   ]
  },
  {
   "cell_type": "code",
   "execution_count": 211,
   "id": "d8cfbaa7",
   "metadata": {},
   "outputs": [
    {
     "name": "stdout",
     "output_type": "stream",
     "text": [
      "Decision Tree MSE: 2.8544843663986983\n"
     ]
    }
   ],
   "source": [
    "dt_model = DecisionTreeRegressor()\n",
    "dt_model.fit(X_train,y_train)\n",
    "\n",
    "# Make predictions with the Decision Tree regressor\n",
    "dt_pred = dt_model.predict(X_test)\n",
    "\n",
    "# Calculate metrics for the Decision Tree regressor\n",
    "dtmse = mean_squared_error(y_test, dt_pred)\n",
    "print(\"Decision Tree MSE:\",dtmse)"
   ]
  },
  {
   "cell_type": "code",
   "execution_count": null,
   "id": "d4324eb2",
   "metadata": {},
   "outputs": [],
   "source": []
  },
  {
   "cell_type": "code",
   "execution_count": 212,
   "id": "9abc851d",
   "metadata": {},
   "outputs": [
    {
     "name": "stdout",
     "output_type": "stream",
     "text": [
      "Decision Tree MSE: 2.8544843663986983\n",
      "Random Forest MSE: 2.0228066866555814\n",
      "Adaboost MSE: 2.100317199537433\n"
     ]
    }
   ],
   "source": [
    "print(\"Decision Tree MSE:\", dtmse)\n",
    "print(\"Random Forest MSE:\", rfmse)\n",
    "print(\"Adaboost MSE:\", abmse)"
   ]
  },
  {
   "cell_type": "code",
   "execution_count": null,
   "id": "3c4029ae",
   "metadata": {},
   "outputs": [],
   "source": []
  },
  {
   "cell_type": "code",
   "execution_count": 205,
   "id": "4f2e792a",
   "metadata": {},
   "outputs": [
    {
     "name": "stdout",
     "output_type": "stream",
     "text": [
      "[0.14869525 0.12758611 0.37887501 0.34484362]\n"
     ]
    },
    {
     "data": {
      "image/png": "[encoded data removed]",
      "text/plain": [
       "<Figure size 864x576 with 1 Axes>"
      ]
     },
     "metadata": {
      "needs_background": "light"
     },
     "output_type": "display_data"
    }
   ],
   "source": [
    "# Plot the variable importance for Random Forest, this will show which variables are playing imp role in RF\n",
    "\n",
    "\n",
    "import numpy as np\n",
    "\n",
    "importances = rf_model.feature_importances_\n",
    "print(importances)\n",
    "indices = np.argsort(importances) \n",
    "\n",
    "plt.figure(figsize=(12,8))\n",
    "plt.title(\"Feature Importance : Random Forest\")\n",
    "plt.barh(range(len(importances)),importances[indices],align='center')\n",
    "plt.yticks(range(len(importances)),[X_train.columns[i] for i in indices])\n",
    "\n",
    "plt.xlabel('Importance')\n",
    "plt.ylabel('Feature')\n",
    "plt.show()"
   ]
  },
  {
   "cell_type": "markdown",
   "id": "f2ffc232",
   "metadata": {},
   "source": [
    "## Model Analysis"
   ]
  },
  {
   "cell_type": "markdown",
   "id": "bffd4081",
   "metadata": {},
   "source": [
    "We can see Random Forest is performing best with MSE of 2.0 and Decision Tree with 2.85.\n",
    "Also, positive score captured from Vader sentiment analysis is most import fetaure to predict Reviewer_score this can be because most of the reviews are skewed having more positive score."
   ]
  },
  {
   "cell_type": "markdown",
   "id": "0a074faf",
   "metadata": {},
   "source": [
    "## Model testing using example"
   ]
  },
  {
   "cell_type": "code",
   "execution_count": 232,
   "id": "8fc9f1fc",
   "metadata": {},
   "outputs": [],
   "source": [
    "example1 = 'Easy access to San Diego main areas. Nice to have good coffee in lobby & brown bag breakfast. Nice staff'"
   ]
  },
  {
   "cell_type": "code",
   "execution_count": 233,
   "id": "54d9df77",
   "metadata": {},
   "outputs": [],
   "source": [
    "example1_scores= sia.polarity_scores(example1)"
   ]
  },
  {
   "cell_type": "code",
   "execution_count": 234,
   "id": "bc0fd06b",
   "metadata": {},
   "outputs": [],
   "source": [
    "example1_scores = pd.DataFrame(example1_scores, index=[0])"
   ]
  },
  {
   "cell_type": "code",
   "execution_count": 235,
   "id": "11fcd3f1",
   "metadata": {},
   "outputs": [],
   "source": [
    "rf_pred = rf_model.predict(example1_scores)"
   ]
  },
  {
   "cell_type": "code",
   "execution_count": 236,
   "id": "3bf21a55",
   "metadata": {},
   "outputs": [
    {
     "name": "stdout",
     "output_type": "stream",
     "text": [
      "\n",
      "Reviewer_score for example 1 using random forest regressor:  [8.77382355]\n"
     ]
    }
   ],
   "source": [
    "print(\"\\nReviewer_score for example 1 using random forest regressor: \", rf_pred)"
   ]
  },
  {
   "cell_type": "code",
   "execution_count": null,
   "id": "a64e4d94",
   "metadata": {},
   "outputs": [],
   "source": []
  },
  {
   "cell_type": "code",
   "execution_count": 237,
   "id": "227057f1",
   "metadata": {},
   "outputs": [],
   "source": [
    "example2 ='my room was dirty and i was afraid to walk,and bathroom tile floor could have been cleaner. Spots/general soiling on the chairs and the tile was dirty, along with hair and dirt in the corners.'"
   ]
  },
  {
   "cell_type": "code",
   "execution_count": 238,
   "id": "e7e6b377",
   "metadata": {},
   "outputs": [],
   "source": [
    "example2_scores = pd.DataFrame(sia.polarity_scores(example2), index=[0])"
   ]
  },
  {
   "cell_type": "code",
   "execution_count": 239,
   "id": "b9fd2f65",
   "metadata": {},
   "outputs": [],
   "source": [
    "rf_pred = rf_model.predict(example2_scores)"
   ]
  },
  {
   "cell_type": "code",
   "execution_count": 240,
   "id": "5f01ee51",
   "metadata": {},
   "outputs": [
    {
     "name": "stdout",
     "output_type": "stream",
     "text": [
      "Reviewer_score for example 2 using random forest regressor: [5.50503333]\n"
     ]
    }
   ],
   "source": [
    "print(\"Reviewer_score for example 2 using random forest regressor:\", rf_pred)"
   ]
  },
  {
   "cell_type": "code",
   "execution_count": 231,
   "id": "c1d69ade",
   "metadata": {},
   "outputs": [
    {
     "name": "stdout",
     "output_type": "stream",
     "text": [
      "\n",
      "Reviewer_score for example 1 using random forest regressor:  [5.50503333]\n"
     ]
    }
   ],
   "source": [
    "print(\"\\nReviewer_score for example 1 using random forest regressor: \", rf_pred)"
   ]
  },
  {
   "cell_type": "code",
   "execution_count": null,
   "id": "a62b2c12",
   "metadata": {},
   "outputs": [],
   "source": [
    "\n"
   ]
  },
  {
   "cell_type": "code",
   "execution_count": null,
   "id": "f00e4143",
   "metadata": {},
   "outputs": [],
   "source": []
  },
  {
   "cell_type": "code",
   "execution_count": null,
   "id": "0e5e080a",
   "metadata": {},
   "outputs": [],
   "source": []
  }
 ],
 "metadata": {
  "kernelspec": {
   "display_name": "Python 3 (ipykernel)",
   "language": "python",
   "name": "python3"
  },
  "language_info": {
   "codemirror_mode": {
    "name": "ipython",
    "version": 3
   },
   "file_extension": ".py",
   "mimetype": "text/x-python",
   "name": "python",
   "nbconvert_exporter": "python",
   "pygments_lexer": "ipython3",
   "version": "3.10.4"
  }
 },
 "nbformat": 4,
 "nbformat_minor": 5
}
